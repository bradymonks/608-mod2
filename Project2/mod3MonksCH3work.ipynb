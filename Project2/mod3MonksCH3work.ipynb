{
 "cells": [
  {
   "cell_type": "code",
   "execution_count": 1,
   "metadata": {},
   "outputs": [
    {
     "name": "stdin",
     "output_type": "stream",
     "text": [
      "Please give a number: 5\n"
     ]
    }
   ],
   "source": [
    "## 3.3\n",
    "\n",
    "x = int(input(\"Please give a number:\"))"
   ]
  },
  {
   "cell_type": "code",
   "execution_count": 2,
   "metadata": {},
   "outputs": [
    {
     "name": "stdin",
     "output_type": "stream",
     "text": [
      "Please enter a second number: 4\n"
     ]
    }
   ],
   "source": [
    "y = int(input(\"Please enter a second number:\"))"
   ]
  },
  {
   "cell_type": "code",
   "execution_count": 3,
   "metadata": {},
   "outputs": [],
   "source": [
    "z = x + y"
   ]
  },
  {
   "cell_type": "code",
   "execution_count": 4,
   "metadata": {},
   "outputs": [
    {
     "name": "stdout",
     "output_type": "stream",
     "text": [
      "5 + 4 = 9\n"
     ]
    }
   ],
   "source": [
    "print(x,\"+\",y,\"=\",z)"
   ]
  },
  {
   "cell_type": "code",
   "execution_count": 5,
   "metadata": {},
   "outputs": [
    {
     "name": "stdin",
     "output_type": "stream",
     "text": [
      "Please give a number: 10\n",
      "Please enter a second number: 5\n"
     ]
    },
    {
     "name": "stdout",
     "output_type": "stream",
     "text": [
      "10 + 5 = 15\n"
     ]
    }
   ],
   "source": [
    "x = int(input(\"Please give a number:\"))\n",
    "y = int(input(\"Please enter a second number:\"))\n",
    "z = x + y\n",
    "print(x,\"+\",y,\"=\",z)"
   ]
  },
  {
   "cell_type": "code",
   "execution_count": 6,
   "metadata": {},
   "outputs": [],
   "source": [
    "## 3.5 & 3.6\n",
    "\n",
    "## if students grade is greater than or equal to 60\n",
    "## display passeds"
   ]
  },
  {
   "cell_type": "code",
   "execution_count": 7,
   "metadata": {},
   "outputs": [
    {
     "name": "stdin",
     "output_type": "stream",
     "text": [
      "What is your grade? 86\n"
     ]
    },
    {
     "name": "stdout",
     "output_type": "stream",
     "text": [
      "Passed\n",
      "Good Job!\n"
     ]
    }
   ],
   "source": [
    "grade = int(input(\"What is your grade?\"))\n",
    "if grade >= 60:\n",
    "    print(\"Passed\");\n",
    "    print(\"Good Job!\")"
   ]
  },
  {
   "cell_type": "code",
   "execution_count": 8,
   "metadata": {},
   "outputs": [
    {
     "name": "stdout",
     "output_type": "stream",
     "text": [
      "nonzero values are true, so this will print\n"
     ]
    }
   ],
   "source": [
    "if 1:\n",
    "    print(\"nonzero values are true, so this will print\")"
   ]
  },
  {
   "cell_type": "code",
   "execution_count": 9,
   "metadata": {},
   "outputs": [],
   "source": [
    "if 0:\n",
    "    print(\"zero is false,so this won't print\")"
   ]
  },
  {
   "cell_type": "code",
   "execution_count": 10,
   "metadata": {},
   "outputs": [
    {
     "data": {
      "text/plain": [
       "False"
      ]
     },
     "execution_count": 10,
     "metadata": {},
     "output_type": "execute_result"
    }
   ],
   "source": [
    "grade == 85"
   ]
  },
  {
   "cell_type": "code",
   "execution_count": 11,
   "metadata": {},
   "outputs": [],
   "source": [
    "## If student's grade is greater than or equal to 60\n",
    "## Display 'Passed'\n",
    "## Else\n",
    "## Display 'Failed'"
   ]
  },
  {
   "cell_type": "code",
   "execution_count": 14,
   "metadata": {},
   "outputs": [
    {
     "name": "stdin",
     "output_type": "stream",
     "text": [
      "What is your grade? 89\n"
     ]
    }
   ],
   "source": [
    "### grade1 = int(input(\"What is your grade?\"))\n",
    "grade1 = int(input(\"What is your grade?\"))\n",
    "if grade1 >= 60:\n",
    "    result = 'Passed'\n",
    "else:\n",
    "    result = 'Failed'"
   ]
  },
  {
   "cell_type": "code",
   "execution_count": 15,
   "metadata": {},
   "outputs": [
    {
     "data": {
      "text/plain": [
       "'Passed'"
      ]
     },
     "execution_count": 15,
     "metadata": {},
     "output_type": "execute_result"
    }
   ],
   "source": [
    "result"
   ]
  },
  {
   "cell_type": "code",
   "execution_count": 16,
   "metadata": {},
   "outputs": [
    {
     "name": "stdin",
     "output_type": "stream",
     "text": [
      "What is your grade? 89\n"
     ]
    },
    {
     "name": "stdout",
     "output_type": "stream",
     "text": [
      "B\n"
     ]
    }
   ],
   "source": [
    "grade2 = int(input(\"What is your grade?\"))\n",
    "\n",
    "if grade2 >= 90:\n",
    "    print(\"A\")\n",
    "elif grade2 >= 80:\n",
    "    print(\"B\")\n",
    "elif grade2 >= 70:\n",
    "    print(\"C\")\n",
    "elif grade2 >= 60:\n",
    "    print(\"D\")\n",
    "else:\n",
    "    print(\"F\")\n"
   ]
  },
  {
   "cell_type": "code",
   "execution_count": 17,
   "metadata": {},
   "outputs": [
    {
     "name": "stdin",
     "output_type": "stream",
     "text": [
      "Number 7\n"
     ]
    },
    {
     "data": {
      "text/plain": [
       "63"
      ]
     },
     "execution_count": 17,
     "metadata": {},
     "output_type": "execute_result"
    }
   ],
   "source": [
    "##3.7\n",
    "\n",
    "product = int(input(\"Number\"))\n",
    "\n",
    "while product <= 50:\n",
    "    product = product * 3\n",
    "\n",
    "product"
   ]
  },
  {
   "cell_type": "code",
   "execution_count": 18,
   "metadata": {},
   "outputs": [
    {
     "name": "stdout",
     "output_type": "stream",
     "text": [
      "P  r  O  g  r  a  m  m  I  N  g  "
     ]
    }
   ],
   "source": [
    "## 3.8\n",
    "\n",
    "for character in 'PrOgrammINg':\n",
    "    print(character, end='  ')"
   ]
  },
  {
   "cell_type": "code",
   "execution_count": 19,
   "metadata": {},
   "outputs": [
    {
     "name": "stdout",
     "output_type": "stream",
     "text": [
      "10, 20, 30\n"
     ]
    }
   ],
   "source": [
    "print(10, 20, 30, sep=', ')"
   ]
  },
  {
   "cell_type": "code",
   "execution_count": 20,
   "metadata": {},
   "outputs": [],
   "source": [
    "## List and Iterables"
   ]
  },
  {
   "cell_type": "code",
   "execution_count": 21,
   "metadata": {},
   "outputs": [
    {
     "data": {
      "text/plain": [
       "25"
      ]
     },
     "execution_count": 21,
     "metadata": {},
     "output_type": "execute_result"
    }
   ],
   "source": [
    "total = 0\n",
    "\n",
    "for number in [2, -3, 0, 17, 9]:\n",
    "    total = total + number\n",
    "    \n",
    "total"
   ]
  },
  {
   "cell_type": "code",
   "execution_count": 22,
   "metadata": {},
   "outputs": [
    {
     "name": "stdout",
     "output_type": "stream",
     "text": [
      "0   1   2   3   4   5   6   7   8   9   "
     ]
    }
   ],
   "source": [
    "total = 0\n",
    "\n",
    "for item in range(10):\n",
    "    print(item, end='   ')\n",
    "    "
   ]
  },
  {
   "cell_type": "code",
   "execution_count": 23,
   "metadata": {},
   "outputs": [
    {
     "data": {
      "text/plain": [
       "500000500000"
      ]
     },
     "execution_count": 23,
     "metadata": {},
     "output_type": "execute_result"
    }
   ],
   "source": [
    "total = 0\n",
    "\n",
    "for number in range (1000001):\n",
    "    total = total + number\n",
    "    \n",
    "total"
   ]
  },
  {
   "cell_type": "code",
   "execution_count": 24,
   "metadata": {},
   "outputs": [
    {
     "data": {
      "text/plain": [
       "120"
      ]
     },
     "execution_count": 24,
     "metadata": {},
     "output_type": "execute_result"
    }
   ],
   "source": [
    "##3.9\n",
    "\n",
    "total = 1\n",
    "for number in [1, 2, 3, 4, 5]:\n",
    "    total *= number\n",
    "    \n",
    "total"
   ]
  },
  {
   "cell_type": "code",
   "execution_count": 25,
   "metadata": {},
   "outputs": [
    {
     "data": {
      "text/plain": [
       "144"
      ]
     },
     "execution_count": 25,
     "metadata": {},
     "output_type": "execute_result"
    }
   ],
   "source": [
    "x = 12\n",
    "x **= 2\n",
    "x"
   ]
  },
  {
   "cell_type": "code",
   "execution_count": 26,
   "metadata": {},
   "outputs": [
    {
     "data": {
      "text/plain": [
       "81.7"
      ]
     },
     "execution_count": 26,
     "metadata": {},
     "output_type": "execute_result"
    }
   ],
   "source": [
    "## 3.10\n",
    "\n",
    "x = [98,76,71,87,83,90,57,79,82,94]\n",
    "total = 0\n",
    "for item in x:\n",
    "    total = total + item\n",
    "    \n",
    "avg = total/10\n",
    "avg"
   ]
  },
  {
   "cell_type": "code",
   "execution_count": 27,
   "metadata": {},
   "outputs": [
    {
     "data": {
      "text/plain": [
       "81.7"
      ]
     },
     "execution_count": 27,
     "metadata": {},
     "output_type": "execute_result"
    }
   ],
   "source": [
    "total = 0\n",
    "grade_counter = 0\n",
    "list = [98,76,71,87,83,90,57,79,82,94]\n",
    "for item in list:\n",
    "    total = total + item\n",
    "    grade_counter = grade_counter + 1\n",
    "average = total / grade_counter\n",
    "average"
   ]
  },
  {
   "cell_type": "code",
   "execution_count": 28,
   "metadata": {},
   "outputs": [
    {
     "name": "stdin",
     "output_type": "stream",
     "text": [
      "Enter first number: 8\n",
      "Enter second number: 65\n"
     ]
    },
    {
     "name": "stdout",
     "output_type": "stream",
     "text": [
      "8 times 65 is 520\n"
     ]
    }
   ],
   "source": [
    "n1 = int(input(\"Enter first number:\"))\n",
    "n2 = int(input(\"Enter second number:\"))\n",
    "x = n1*n2\n",
    "print(n1,\"times\",n2,\"is\",x)"
   ]
  },
  {
   "cell_type": "code",
   "execution_count": 29,
   "metadata": {},
   "outputs": [
    {
     "name": "stdin",
     "output_type": "stream",
     "text": [
      "Enter grade, -1 to end: 78\n",
      "Enter grade, -1 to end: 48\n",
      "Enter grade, -1 to end: 91\n",
      "Enter grade, -1 to end: 96\n",
      "Enter grade, -1 to end: 84\n",
      "Enter grade, -1 to end: 86\n",
      "Enter grade, -1 to end: -1\n"
     ]
    },
    {
     "name": "stdout",
     "output_type": "stream",
     "text": [
      "The average is 80.5 %\n"
     ]
    }
   ],
   "source": [
    "## 3.11\n",
    "\n",
    "## Determine the class average for the quiz\n",
    "\n",
    "### Initialize variables\n",
    "### Input, sum and count the quiz grades\n",
    "### Calculate and display the class average\n",
    "\n",
    "#### Initialize total to zero\n",
    "total = 0\n",
    "#### Initialize grade counter to zero\n",
    "grade_counter = 0\n",
    "#### Input the first grade\n",
    "grade = int(input(\"Enter grade, -1 to end:\"))\n",
    "#### While user has not entered the sentinel\n",
    "    #### Add this grade into the running total\n",
    "    #### Add one to the grade counter\n",
    "    #### Input the next grade\n",
    "while grade != -1:\n",
    "    total += grade\n",
    "    grade_counter = grade_counter + 1\n",
    "    grade = int(input(\"Enter grade, -1 to end:\"))\n",
    "    \n",
    "#### If counter is not equal to zero \n",
    "    #### Set the average to the total divided by the grade counter\n",
    "    #### Display the average\n",
    "if grade_counter != 0:\n",
    "    average = total / grade_counter\n",
    "    average = str(round(average, 2))\n",
    "    print(\"The average is\",average,\"%\")\n",
    "#### Else\n",
    "    #### Display \"No grades were entered\"\n",
    "else:\n",
    "    print(\"No grades were entered\")"
   ]
  },
  {
   "cell_type": "code",
   "execution_count": 30,
   "metadata": {},
   "outputs": [
    {
     "name": "stdin",
     "output_type": "stream",
     "text": [
      "Enter Result (1 = pass, 2 = fail): 1\n",
      "Enter Result (1 = pass, 2 = fail): 1\n",
      "Enter Result (1 = pass, 2 = fail): 1\n",
      "Enter Result (1 = pass, 2 = fail): 1\n",
      "Enter Result (1 = pass, 2 = fail): 1\n",
      "Enter Result (1 = pass, 2 = fail): 1\n",
      "Enter Result (1 = pass, 2 = fail): 2\n",
      "Enter Result (1 = pass, 2 = fail): 1\n",
      "Enter Result (1 = pass, 2 = fail): 1\n",
      "Enter Result (1 = pass, 2 = fail): 1\n"
     ]
    },
    {
     "name": "stdout",
     "output_type": "stream",
     "text": [
      "9 students passed, while 1 students failed.\n",
      "Bonus to Instructor.\n"
     ]
    }
   ],
   "source": [
    "## 3.12\n",
    "\n",
    "# Input each test result, 1 for pass and 2 for fail\n",
    "## Count number of test results of each type\n",
    "p = 0\n",
    "f = 0\n",
    "for item in range(10):\n",
    "    x = int(input(\"Enter Result (1 = pass, 2 = fail):\"))\n",
    "    if x == 1:\n",
    "        p = p +1\n",
    "    else:\n",
    "        f = f + 1\n",
    "    \n",
    "## Display summary of results indicating # of students who passed and passed\n",
    "print(p,\"students passed, while\",f,\"students failed.\")\n",
    "## If more than 8 passed, display \"Bonus to Instructor.\"\n",
    "if p > 8:\n",
    "    print(\"Bonus to Instructor.\")"
   ]
  },
  {
   "cell_type": "code",
   "execution_count": 31,
   "metadata": {},
   "outputs": [
    {
     "name": "stdin",
     "output_type": "stream",
     "text": [
      "enter a number 15\n"
     ]
    },
    {
     "name": "stdout",
     "output_type": "stream",
     "text": [
      "15 is an odd number\n"
     ]
    },
    {
     "name": "stdin",
     "output_type": "stream",
     "text": [
      "enter a number 14\n"
     ]
    },
    {
     "name": "stdout",
     "output_type": "stream",
     "text": [
      "14 is an even number\n"
     ]
    }
   ],
   "source": [
    "for x in range(2):\n",
    "    y = int(input(\"enter a number\"))\n",
    "    if y % 2 == 0:\n",
    "        print (y,\"is an even number\")\n",
    "    else:\n",
    "        print(y,\"is an odd number\")"
   ]
  },
  {
   "cell_type": "code",
   "execution_count": 32,
   "metadata": {},
   "outputs": [
    {
     "name": "stdout",
     "output_type": "stream",
     "text": [
      "100 95 90 85 80 75 70 65 60 55 50 45 40 35 30 25 20 15 10 5 "
     ]
    }
   ],
   "source": [
    "## 3.13\n",
    "for number in range (100,0,-5):\n",
    "        print(number, end = ' ')"
   ]
  },
  {
   "cell_type": "code",
   "execution_count": 33,
   "metadata": {},
   "outputs": [
    {
     "name": "stdout",
     "output_type": "stream",
     "text": [
      "024681012141618202224262830323436384042444648505254565860626466687072747678808284868890929496981002550\n"
     ]
    }
   ],
   "source": [
    "total = 0\n",
    "for number in range (0,101,2):\n",
    "    print(number, end='')\n",
    "    total = total + number\n",
    "print(total)"
   ]
  },
  {
   "cell_type": "code",
   "execution_count": 34,
   "metadata": {},
   "outputs": [
    {
     "name": "stdout",
     "output_type": "stream",
     "text": [
      "112.299999999999997157829056959599256515502929687500000000000000000000000000000000000000000000000000000000000000000000000000000000000000000000000000000000000000000000000000000000000000000000000000000000000\n"
     ]
    }
   ],
   "source": [
    "amount = 112.3\n",
    "print(f'{amount:.201f}')"
   ]
  },
  {
   "cell_type": "code",
   "execution_count": 35,
   "metadata": {},
   "outputs": [],
   "source": [
    "## 3.14\n",
    "import decimal"
   ]
  },
  {
   "cell_type": "code",
   "execution_count": 36,
   "metadata": {},
   "outputs": [],
   "source": [
    "from decimal import Decimal"
   ]
  },
  {
   "cell_type": "code",
   "execution_count": 37,
   "metadata": {},
   "outputs": [],
   "source": [
    "x = Decimal ('10.5')"
   ]
  },
  {
   "cell_type": "code",
   "execution_count": 38,
   "metadata": {},
   "outputs": [],
   "source": [
    "y = Decimal ('2')"
   ]
  },
  {
   "cell_type": "code",
   "execution_count": 39,
   "metadata": {},
   "outputs": [
    {
     "data": {
      "text/plain": [
       "Decimal('12.5')"
      ]
     },
     "execution_count": 39,
     "metadata": {},
     "output_type": "execute_result"
    }
   ],
   "source": [
    "x + y"
   ]
  },
  {
   "cell_type": "code",
   "execution_count": 40,
   "metadata": {},
   "outputs": [
    {
     "data": {
      "text/plain": [
       "Decimal('5')"
      ]
     },
     "execution_count": 40,
     "metadata": {},
     "output_type": "execute_result"
    }
   ],
   "source": [
    "x//y"
   ]
  },
  {
   "cell_type": "code",
   "execution_count": 41,
   "metadata": {},
   "outputs": [],
   "source": [
    "x += y"
   ]
  },
  {
   "cell_type": "code",
   "execution_count": 42,
   "metadata": {},
   "outputs": [
    {
     "data": {
      "text/plain": [
       "Decimal('12.5')"
      ]
     },
     "execution_count": 42,
     "metadata": {},
     "output_type": "execute_result"
    }
   ],
   "source": [
    "x"
   ]
  },
  {
   "cell_type": "code",
   "execution_count": 44,
   "metadata": {},
   "outputs": [
    {
     "name": "stdin",
     "output_type": "stream",
     "text": [
      "Original Amount invested: 1000\n",
      "What is the annual interest rate? .05\n",
      "Number of years: 10\n"
     ]
    },
    {
     "name": "stdout",
     "output_type": "stream",
     "text": [
      "The amount on deposit at the end of the 10 th year is 1628.89462677744140625000 .\n"
     ]
    }
   ],
   "source": [
    "p = int(input(\"Original Amount invested:\"))\n",
    "r = Decimal(input(\"What is the annual interest rate?\"))\n",
    "n = int(input(\"Number of years:\"))\n",
    "a = p * (1 + r)**n\n",
    "print(\"The amount on deposit at the end of the\",n,\"th year is\",a,\".\")"
   ]
  },
  {
   "cell_type": "code",
   "execution_count": 50,
   "metadata": {},
   "outputs": [
    {
     "name": "stdin",
     "output_type": "stream",
     "text": [
      "what is the principal? 1000\n",
      "what is the rate? .05\n"
     ]
    },
    {
     "name": "stdout",
     "output_type": "stream",
     "text": [
      " 1   1050.00\n",
      " 2   1102.50\n",
      " 3   1157.62\n",
      " 4   1215.51\n",
      " 5   1276.28\n",
      " 6   1340.10\n",
      " 7   1407.10\n",
      " 8   1477.46\n",
      " 9   1551.33\n",
      "10   1628.89\n"
     ]
    }
   ],
   "source": [
    "principal = int(input(\"what is the principal?\"))\n",
    "rate = Decimal(input(\"what is the rate?\"))\n",
    "for year in range(1, 11):\n",
    "    amount = principal * (1 + rate) ** year\n",
    "    print(f'{year:>2}{amount:>10.2f}')\n"
   ]
  },
  {
   "cell_type": "code",
   "execution_count": 51,
   "metadata": {},
   "outputs": [],
   "source": [
    "import decimal\n",
    "from decimal import Decimal"
   ]
  },
  {
   "cell_type": "code",
   "execution_count": 52,
   "metadata": {},
   "outputs": [
    {
     "name": "stdin",
     "output_type": "stream",
     "text": [
      "what is the principal? 1000\n",
      "what is the rate? .05\n"
     ]
    },
    {
     "name": "stdout",
     "output_type": "stream",
     "text": [
      " 1   1050.00\n",
      " 2   1102.50\n",
      " 3   1157.62\n",
      " 4   1215.51\n",
      " 5   1276.28\n",
      " 6   1340.10\n",
      " 7   1407.10\n",
      " 8   1477.46\n",
      " 9   1551.33\n",
      "10   1628.89\n"
     ]
    }
   ],
   "source": [
    "principal = int(input(\"what is the principal?\"))\n",
    "rate = Decimal(input(\"what is the rate?\"))\n",
    "for year in range(1, 11):\n",
    "    amount = principal * (1 + rate) ** year\n",
    "    print(f'{year:>2}{amount:>10.2f}')"
   ]
  },
  {
   "cell_type": "code",
   "execution_count": 53,
   "metadata": {},
   "outputs": [
    {
     "name": "stdout",
     "output_type": "stream",
     "text": [
      "0 1 2 3 4 5 6 7 8 9 11 12 13 14 15 16 17 18 19 20 21 22 23 24 25 26 27 28 29 30 31 32 33 34 35 36 37 38 39 40 41 42 43 44 45 46 47 48 49 50 51 52 53 54 55 56 57 58 59 60 61 62 63 64 65 66 67 68 69 70 71 72 73 74 75 76 77 78 79 80 81 82 83 84 85 86 87 88 89 90 91 92 93 94 95 96 97 98 99 "
     ]
    }
   ],
   "source": [
    "## 3.15\n",
    "for number in range(100):\n",
    "    if number == 10:\n",
    "        continue\n",
    "    print(number, end = ' ')"
   ]
  },
  {
   "cell_type": "code",
   "execution_count": 54,
   "metadata": {},
   "outputs": [
    {
     "name": "stdout",
     "output_type": "stream",
     "text": [
      "Senior Woman\n"
     ]
    }
   ],
   "source": [
    "## 3.16\n",
    "gender = 'Female'\n",
    "age = 80\n",
    "if gender == 'Female' and age > 65:\n",
    "    print('Senior Woman')"
   ]
  },
  {
   "cell_type": "code",
   "execution_count": 55,
   "metadata": {},
   "outputs": [
    {
     "data": {
      "text/plain": [
       "79.4"
      ]
     },
     "execution_count": 55,
     "metadata": {},
     "output_type": "execute_result"
    }
   ],
   "source": [
    "## 3.17\n",
    "grades = [85,93,45,89,85]\n",
    "sum(grades) / len(grades)"
   ]
  },
  {
   "cell_type": "code",
   "execution_count": 56,
   "metadata": {},
   "outputs": [],
   "source": [
    "import statistics"
   ]
  },
  {
   "cell_type": "code",
   "execution_count": 57,
   "metadata": {},
   "outputs": [
    {
     "name": "stdout",
     "output_type": "stream",
     "text": [
      "79.4\n",
      "85\n",
      "85\n"
     ]
    }
   ],
   "source": [
    "print(statistics.mean(grades))\n",
    "print(statistics.median(grades))\n",
    "print(statistics.mode(grades))"
   ]
  },
  {
   "cell_type": "code",
   "execution_count": 58,
   "metadata": {},
   "outputs": [
    {
     "data": {
      "text/plain": [
       "[45, 85, 85, 89, 93]"
      ]
     },
     "execution_count": 58,
     "metadata": {},
     "output_type": "execute_result"
    }
   ],
   "source": [
    "sorted(grades)"
   ]
  },
  {
   "cell_type": "code",
   "execution_count": 59,
   "metadata": {},
   "outputs": [
    {
     "name": "stdout",
     "output_type": "stream",
     "text": [
      "Count: 6\n",
      "Sum: 475\n",
      "Average: 79.16666666666667\n"
     ]
    }
   ],
   "source": [
    "## 6. Calculate Measures of Central Tendency - Native Python\n",
    "\n",
    "values = [47,95,88,73,88,84]\n",
    "\n",
    "count = len(values)\n",
    "print(\"Count:\",count)\n",
    "total = sum(values)\n",
    "print(\"Sum:\",total)\n",
    "avg = total / count\n",
    "print(\"Average:\",avg)"
   ]
  },
  {
   "cell_type": "code",
   "execution_count": 63,
   "metadata": {},
   "outputs": [
    {
     "name": "stdout",
     "output_type": "stream",
     "text": [
      "Mean: 54.27272727272727\n",
      "Median: 54\n",
      "Mode: 78\n"
     ]
    }
   ],
   "source": [
    "## 7. Calculate Measures of Central Tendency - with Statistic Module\n",
    "\n",
    "print(\"Mean:\",statistics.mean(values))\n",
    "print(\"Median:\",statistics.median(values))\n",
    "print(\"Mode:\",statistics.mode(values))"
   ]
  },
  {
   "cell_type": "code",
   "execution_count": 64,
   "metadata": {},
   "outputs": [
    {
     "name": "stdout",
     "output_type": "stream",
     "text": [
      "Count: 11\n",
      "Sum: 597\n",
      "Mean: 54.27272727272727\n",
      "Median: 54\n",
      "Mode: 78\n"
     ]
    }
   ],
   "source": [
    "## 8 Custom Central Tendency\n",
    "## Brady Monks\n",
    "values = [54,84,96,51,35,37,55,15,14,78,78]\n",
    "\n",
    "print(\"Count:\",len(values))\n",
    "print(\"Sum:\",sum(values))\n",
    "print(\"Mean:\",statistics.mean(values))\n",
    "print(\"Median:\",statistics.median(values))\n",
    "print(\"Mode:\",statistics.mode(values))"
   ]
  }
 ],
 "metadata": {
  "kernelspec": {
   "display_name": "Python 3",
   "language": "python",
   "name": "python3"
  },
  "language_info": {
   "codemirror_mode": {
    "name": "ipython",
    "version": 3
   },
   "file_extension": ".py",
   "mimetype": "text/x-python",
   "name": "python",
   "nbconvert_exporter": "python",
   "pygments_lexer": "ipython3",
   "version": "3.8.5"
  }
 },
 "nbformat": 4,
 "nbformat_minor": 4
}
